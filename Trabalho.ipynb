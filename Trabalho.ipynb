{
  "nbformat": 4,
  "nbformat_minor": 5,
  "metadata": {
    "kernelspec": {
      "display_name": "Python 3",
      "language": "python",
      "name": "python3"
    },
    "language_info": {
      "codemirror_mode": {
        "name": "ipython",
        "version": 3
      },
      "file_extension": ".py",
      "mimetype": "text/x-python",
      "name": "python",
      "nbconvert_exporter": "python",
      "pygments_lexer": "ipython3",
      "version": "3.8.7"
    },
    "colab": {
      "name": "Trabalho.ipynb",
      "provenance": [],
      "collapsed_sections": [],
      "include_colab_link": true
    },
    "accelerator": "GPU"
  },
  "cells": [
    {
      "cell_type": "markdown",
      "metadata": {
        "id": "view-in-github",
        "colab_type": "text"
      },
      "source": [
        "<a href=\"https://colab.research.google.com/github/hijuliosantos/pos-deeplearning/blob/main/Trabalho.ipynb\" target=\"_parent\"><img src=\"https://colab.research.google.com/assets/colab-badge.svg\" alt=\"Open In Colab\"/></a>"
      ]
    },
    {
      "cell_type": "markdown",
      "metadata": {
        "id": "94471057"
      },
      "source": [
        "### Classificação de textos para análise de sentimentos\n",
        "\n",
        "Base de dados \n",
        "\n",
        "Istruções:\n",
        "- O objetivo deste trabalho é criar um modelo binário de aprendizado de máquina para classificação de textos. \n",
        "Para isso, será utilizado a base de dados [IMDb](http://ai.stanford.edu/~amaas/data/sentiment/), que consiste de dados textuais de críticas positivas e negativas de filmes\n",
        "- Uma vez treinado, o modelo deve ter uma função `predict` que recebe uma string como parâmetro e retorna o valor 1 ou 0, aonde 1 significa uma crítica positiva e 0 uma crítica negativa\n",
        "- O pré-processamento pode ser desenvolvidado conforme desejar (ex.: remoção de stopwords, word embedding, one-hot encoding, char encoding)\n",
        "- É preferível que seja empregado um modelo de recorrência (ex.: rnn, lstm, gru) para a etapa de classificação\n",
        "- Documente o código (explique sucintamente o que cada função faz, insira comentários em trechos de código relevantes)\n",
        "- **Atenção**: Uma vez treinado o modelo final, salve-o no diretório do seu projeto e crie uma célula ao final do notebook contendo uma função de leitura deste arquivo, juntamente com a execução da função `predict`\n",
        "\n",
        "Sugestões:\n",
        "- Explorar a base de dados nas células iniciais do notebook para ter um melhor entendimento do problema, distribuição dos dados, etc\n",
        "- Após desenvolver a estrutura de classificação, é indicado fazer uma busca de hiperparâmetros e comparar os resultados obtidos em diferentes situações\n",
        "\n",
        "Prazo de entrega:\n",
        "- 26-06-2021 às 23:59hs GMT-3\n",
        "\n",
        "Formato preferível de entrega:\n",
        "- Postar no portal Ava da disciplina o link do projeto no github (ou anexar o projeto diretamente no portal Ava)\n",
        "\n",
        "luann.porfirio@gmail.com"
      ],
      "id": "94471057"
    },
    {
      "cell_type": "markdown",
      "metadata": {
        "id": "j1WgIiaHUAOC"
      },
      "source": [
        "# Imports e rápida análise nos dados"
      ],
      "id": "j1WgIiaHUAOC"
    },
    {
      "cell_type": "markdown",
      "metadata": {
        "id": "tmJCJpSwLH_5"
      },
      "source": [
        "Inicialmente realizo a importação das bibliotecas necessárias para o desenvolvimento deste trabalho. Spacy para pnl e pytorch para redes recorrentes."
      ],
      "id": "tmJCJpSwLH_5"
    },
    {
      "cell_type": "code",
      "metadata": {
        "ExecuteTime": {
          "end_time": "2021-06-10T00:44:12.514627Z",
          "start_time": "2021-06-10T00:44:12.509125Z"
        },
        "id": "a80224ad",
        "colab": {
          "base_uri": "https://localhost:8080/",
          "height": 52
        },
        "outputId": "69b8e96c-e7c1-4e63-8a80-e8783a075ff4"
      },
      "source": [
        "import torch\n",
        "import torch.nn as nn\n",
        "import torch.optim as optim\n",
        "import matplotlib.pyplot as plt\n",
        "import seaborn as sns\n",
        "import pandas as pd\n",
        "import numpy as np\n",
        "import time\n",
        "import random\n",
        "import re\n",
        "import spacy\n",
        "\n",
        "from torch.utils.data import random_split\n",
        "from torchtext.legacy.data import LabelField, Field, Example, Dataset, Iterator\n",
        "from torchtext.vocab import GloVe\n",
        "from torchtext import datasets\n",
        "from bs4 import BeautifulSoup\n",
        "\n",
        "# Para testes com o nltk. Foi escolhida a biblioteca Spacy para o processamento de linguagem natural\n",
        "'''import nltk\n",
        "nltk.download(['stopwords', 'wordnet', 'vader_lexicon', 'punkt'])\n",
        "\n",
        "from nltk import word_tokenize, FreqDist\n",
        "from nltk.corpus import stopwords\n",
        "from nltk.stem import WordNetLemmatizer\n",
        "from nltk.stem.snowball import SnowballStemmer\n",
        "from nltk.sentiment import SentimentIntensityAnalyzer'''"
      ],
      "id": "a80224ad",
      "execution_count": null,
      "outputs": [
        {
          "output_type": "execute_result",
          "data": {
            "application/vnd.google.colaboratory.intrinsic+json": {
              "type": "string"
            },
            "text/plain": [
              "\"import nltk\\nnltk.download(['stopwords', 'wordnet', 'vader_lexicon', 'punkt'])\\n\\nfrom nltk import word_tokenize, FreqDist\\nfrom nltk.corpus import stopwords\\nfrom nltk.stem import WordNetLemmatizer\\nfrom nltk.stem.snowball import SnowballStemmer\\nfrom nltk.sentiment import SentimentIntensityAnalyzer\""
            ]
          },
          "metadata": {
            "tags": []
          },
          "execution_count": 20
        }
      ]
    },
    {
      "cell_type": "markdown",
      "metadata": {
        "id": "wJSCFO-GLY0g"
      },
      "source": [
        "Leitura dos datasets (treino/teste). Transformo em data frame pandas para facilitar realizar análise exploratória."
      ],
      "id": "wJSCFO-GLY0g"
    },
    {
      "cell_type": "code",
      "metadata": {
        "id": "hYlwE3TAqLIU"
      },
      "source": [
        "train_iter, test_iter = datasets.IMDB()\n",
        "df_train = pd.DataFrame(train_iter, columns=[\"sentiment\", \"review\"])\n",
        "df_test = pd.DataFrame(test_iter, columns=[\"sentiment\", \"review\"])"
      ],
      "id": "hYlwE3TAqLIU",
      "execution_count": null,
      "outputs": []
    },
    {
      "cell_type": "code",
      "metadata": {
        "colab": {
          "base_uri": "https://localhost:8080/"
        },
        "id": "vQywuzzeBiqS",
        "outputId": "3190a241-139d-48a7-b42c-0834067a5199"
      },
      "source": [
        "df_train['sentiment'].value_counts()"
      ],
      "id": "vQywuzzeBiqS",
      "execution_count": null,
      "outputs": [
        {
          "output_type": "execute_result",
          "data": {
            "text/plain": [
              "neg    12500\n",
              "pos    12500\n",
              "Name: sentiment, dtype: int64"
            ]
          },
          "metadata": {
            "tags": []
          },
          "execution_count": 42
        }
      ]
    },
    {
      "cell_type": "code",
      "metadata": {
        "colab": {
          "base_uri": "https://localhost:8080/",
          "height": 204
        },
        "id": "qQojIMx9FptZ",
        "outputId": "47061e6b-fd10-4cf0-e57e-d1bdeccc2a3a"
      },
      "source": [
        "df_train.head(5)"
      ],
      "id": "qQojIMx9FptZ",
      "execution_count": null,
      "outputs": [
        {
          "output_type": "execute_result",
          "data": {
            "text/html": [
              "<div>\n",
              "<style scoped>\n",
              "    .dataframe tbody tr th:only-of-type {\n",
              "        vertical-align: middle;\n",
              "    }\n",
              "\n",
              "    .dataframe tbody tr th {\n",
              "        vertical-align: top;\n",
              "    }\n",
              "\n",
              "    .dataframe thead th {\n",
              "        text-align: right;\n",
              "    }\n",
              "</style>\n",
              "<table border=\"1\" class=\"dataframe\">\n",
              "  <thead>\n",
              "    <tr style=\"text-align: right;\">\n",
              "      <th></th>\n",
              "      <th>sentiment</th>\n",
              "      <th>review</th>\n",
              "    </tr>\n",
              "  </thead>\n",
              "  <tbody>\n",
              "    <tr>\n",
              "      <th>0</th>\n",
              "      <td>neg</td>\n",
              "      <td>I rented I AM CURIOUS-YELLOW from my video sto...</td>\n",
              "    </tr>\n",
              "    <tr>\n",
              "      <th>1</th>\n",
              "      <td>neg</td>\n",
              "      <td>\"I Am Curious: Yellow\" is a risible and preten...</td>\n",
              "    </tr>\n",
              "    <tr>\n",
              "      <th>2</th>\n",
              "      <td>neg</td>\n",
              "      <td>If only to avoid making this type of film in t...</td>\n",
              "    </tr>\n",
              "    <tr>\n",
              "      <th>3</th>\n",
              "      <td>neg</td>\n",
              "      <td>This film was probably inspired by Godard's Ma...</td>\n",
              "    </tr>\n",
              "    <tr>\n",
              "      <th>4</th>\n",
              "      <td>neg</td>\n",
              "      <td>Oh, brother...after hearing about this ridicul...</td>\n",
              "    </tr>\n",
              "  </tbody>\n",
              "</table>\n",
              "</div>"
            ],
            "text/plain": [
              "  sentiment                                             review\n",
              "0       neg  I rented I AM CURIOUS-YELLOW from my video sto...\n",
              "1       neg  \"I Am Curious: Yellow\" is a risible and preten...\n",
              "2       neg  If only to avoid making this type of film in t...\n",
              "3       neg  This film was probably inspired by Godard's Ma...\n",
              "4       neg  Oh, brother...after hearing about this ridicul..."
            ]
          },
          "metadata": {
            "tags": []
          },
          "execution_count": 45
        }
      ]
    },
    {
      "cell_type": "code",
      "metadata": {
        "colab": {
          "base_uri": "https://localhost:8080/"
        },
        "id": "2q9t6DUWF8OQ",
        "outputId": "bdca38b5-d660-4766-8d12-e44a7a4e0d11"
      },
      "source": [
        "df_train.info()"
      ],
      "id": "2q9t6DUWF8OQ",
      "execution_count": null,
      "outputs": [
        {
          "output_type": "stream",
          "text": [
            "<class 'pandas.core.frame.DataFrame'>\n",
            "RangeIndex: 25000 entries, 0 to 24999\n",
            "Data columns (total 2 columns):\n",
            " #   Column     Non-Null Count  Dtype \n",
            "---  ------     --------------  ----- \n",
            " 0   sentiment  25000 non-null  object\n",
            " 1   review     25000 non-null  object\n",
            "dtypes: object(2)\n",
            "memory usage: 390.8+ KB\n"
          ],
          "name": "stdout"
        }
      ]
    },
    {
      "cell_type": "code",
      "metadata": {
        "colab": {
          "base_uri": "https://localhost:8080/"
        },
        "id": "FJy3ixY37j3a",
        "outputId": "2ae71fee-2e36-4be9-ae24-2b5196daab4d"
      },
      "source": [
        "df_test['sentiment'].value_counts()"
      ],
      "id": "FJy3ixY37j3a",
      "execution_count": null,
      "outputs": [
        {
          "output_type": "execute_result",
          "data": {
            "text/plain": [
              "neg    12500\n",
              "pos    12500\n",
              "Name: sentiment, dtype: int64"
            ]
          },
          "metadata": {
            "tags": []
          },
          "execution_count": 43
        }
      ]
    },
    {
      "cell_type": "code",
      "metadata": {
        "colab": {
          "base_uri": "https://localhost:8080/",
          "height": 204
        },
        "id": "H978SRkNFxYY",
        "outputId": "028e355f-83af-4e6e-f1b7-81921431b023"
      },
      "source": [
        "df_test.head(5)"
      ],
      "id": "H978SRkNFxYY",
      "execution_count": null,
      "outputs": [
        {
          "output_type": "execute_result",
          "data": {
            "text/html": [
              "<div>\n",
              "<style scoped>\n",
              "    .dataframe tbody tr th:only-of-type {\n",
              "        vertical-align: middle;\n",
              "    }\n",
              "\n",
              "    .dataframe tbody tr th {\n",
              "        vertical-align: top;\n",
              "    }\n",
              "\n",
              "    .dataframe thead th {\n",
              "        text-align: right;\n",
              "    }\n",
              "</style>\n",
              "<table border=\"1\" class=\"dataframe\">\n",
              "  <thead>\n",
              "    <tr style=\"text-align: right;\">\n",
              "      <th></th>\n",
              "      <th>sentiment</th>\n",
              "      <th>review</th>\n",
              "    </tr>\n",
              "  </thead>\n",
              "  <tbody>\n",
              "    <tr>\n",
              "      <th>0</th>\n",
              "      <td>neg</td>\n",
              "      <td>I love sci-fi and am willing to put up with a ...</td>\n",
              "    </tr>\n",
              "    <tr>\n",
              "      <th>1</th>\n",
              "      <td>neg</td>\n",
              "      <td>Worth the entertainment value of a rental, esp...</td>\n",
              "    </tr>\n",
              "    <tr>\n",
              "      <th>2</th>\n",
              "      <td>neg</td>\n",
              "      <td>its a totally average film with a few semi-alr...</td>\n",
              "    </tr>\n",
              "    <tr>\n",
              "      <th>3</th>\n",
              "      <td>neg</td>\n",
              "      <td>STAR RATING: ***** Saturday Night **** Friday ...</td>\n",
              "    </tr>\n",
              "    <tr>\n",
              "      <th>4</th>\n",
              "      <td>neg</td>\n",
              "      <td>First off let me say, If you haven't enjoyed a...</td>\n",
              "    </tr>\n",
              "  </tbody>\n",
              "</table>\n",
              "</div>"
            ],
            "text/plain": [
              "  sentiment                                             review\n",
              "0       neg  I love sci-fi and am willing to put up with a ...\n",
              "1       neg  Worth the entertainment value of a rental, esp...\n",
              "2       neg  its a totally average film with a few semi-alr...\n",
              "3       neg  STAR RATING: ***** Saturday Night **** Friday ...\n",
              "4       neg  First off let me say, If you haven't enjoyed a..."
            ]
          },
          "metadata": {
            "tags": []
          },
          "execution_count": 46
        }
      ]
    },
    {
      "cell_type": "code",
      "metadata": {
        "colab": {
          "base_uri": "https://localhost:8080/"
        },
        "id": "AOTqmkpLF1-g",
        "outputId": "967e8401-5f5b-4c65-d661-76b83b510cd4"
      },
      "source": [
        "df_test.info()"
      ],
      "id": "AOTqmkpLF1-g",
      "execution_count": null,
      "outputs": [
        {
          "output_type": "stream",
          "text": [
            "<class 'pandas.core.frame.DataFrame'>\n",
            "RangeIndex: 25000 entries, 0 to 24999\n",
            "Data columns (total 2 columns):\n",
            " #   Column     Non-Null Count  Dtype \n",
            "---  ------     --------------  ----- \n",
            " 0   sentiment  25000 non-null  object\n",
            " 1   review     25000 non-null  object\n",
            "dtypes: object(2)\n",
            "memory usage: 390.8+ KB\n"
          ],
          "name": "stdout"
        }
      ]
    },
    {
      "cell_type": "code",
      "metadata": {
        "colab": {
          "base_uri": "https://localhost:8080/",
          "height": 103
        },
        "id": "2BAwh5zlF4Hg",
        "outputId": "6a3c2020-841f-4867-bb6b-16684f1be4ca"
      },
      "source": [
        "df_train['review'].loc[10]\n",
        "#<br /><br />"
      ],
      "id": "2BAwh5zlF4Hg",
      "execution_count": null,
      "outputs": [
        {
          "output_type": "execute_result",
          "data": {
            "application/vnd.google.colaboratory.intrinsic+json": {
              "type": "string"
            },
            "text/plain": [
              "'It was great to see some of my favorite stars of 30 years ago including John Ritter, Ben Gazarra and Audrey Hepburn. They looked quite wonderful. But that was it. They were not given any characters or good lines to work with. I neither understood or cared what the characters were doing.<br /><br />Some of the smaller female roles were fine, Patty Henson and Colleen Camp were quite competent and confident in their small sidekick parts. They showed some talent and it is sad they didn\\'t go on to star in more and better films. Sadly, I didn\\'t think Dorothy Stratten got a chance to act in this her only important film role.<br /><br />The film appears to have some fans, and I was very open-minded when I started watching it. I am a big Peter Bogdanovich fan and I enjoyed his last movie, \"Cat\\'s Meow\" and all his early ones from \"Targets\" to \"Nickleodeon\". So, it really surprised me that I was barely able to keep awake watching this one.<br /><br />It is ironic that this movie is about a detective agency where the detectives and clients get romantically involved with each other. Five years later, Bogdanovich\\'s ex-girlfriend, Cybil Shepherd had a hit television series called \"Moonlighting\" stealing the story idea from Bogdanovich. Of course, there was a great difference in that the series relied on tons of witty dialogue, while this tries to make do with slapstick and a few screwball lines.<br /><br />Bottom line: It ain\\'t no \"Paper Moon\" and only a very pale version of \"What\\'s Up, Doc\".'"
            ]
          },
          "metadata": {
            "tags": []
          },
          "execution_count": 52
        }
      ]
    },
    {
      "cell_type": "markdown",
      "metadata": {
        "id": "GZi_SVLuUQLK"
      },
      "source": [
        "Os dados estão ok, estão divididos proporcionalmente e não há dados nulos. Será necessário tratar o texto e label para o algoritmo de rede recorrente"
      ],
      "id": "GZi_SVLuUQLK"
    },
    {
      "cell_type": "code",
      "metadata": {
        "id": "7lF-8wG_JCKp"
      },
      "source": [
        "#Configurações para reprodutibilidade\n",
        "\n",
        "seed = 42\n",
        "torch.manual_seed(seed)\n",
        "np.random.seed(seed)\n",
        "# for cuda\n",
        "torch.cuda.manual_seed_all(seed)\n",
        "torch.backends.cudnn.deterministic = True\n",
        "torch.backends.cudnn.benchmark = False\n",
        "torch.backends.cudnn.enabled = False"
      ],
      "id": "7lF-8wG_JCKp",
      "execution_count": null,
      "outputs": []
    },
    {
      "cell_type": "markdown",
      "metadata": {
        "id": "6uKpWhKTJuoo"
      },
      "source": [
        "Habilitar GPU cuda se disponível."
      ],
      "id": "6uKpWhKTJuoo"
    },
    {
      "cell_type": "code",
      "metadata": {
        "colab": {
          "base_uri": "https://localhost:8080/"
        },
        "id": "2BKyXbeiJksA",
        "outputId": "7a859de0-01d0-4ad4-afa2-5b9fdc48054f"
      },
      "source": [
        "device = torch.device(\"cuda:0\" if torch.cuda.is_available() else \"cpu\")\n",
        "print(device)"
      ],
      "id": "2BKyXbeiJksA",
      "execution_count": null,
      "outputs": [
        {
          "output_type": "stream",
          "text": [
            "cpu\n"
          ],
          "name": "stdout"
        }
      ]
    },
    {
      "cell_type": "markdown",
      "metadata": {
        "id": "F-Es5eXSL3a5"
      },
      "source": [
        "Após realizar uma pequena análise nos dados (não precisam de modificações), irei criar o método para aplicar pln no texto. Criarei duas listas com os textos já processados."
      ],
      "id": "F-Es5eXSL3a5"
    },
    {
      "cell_type": "code",
      "metadata": {
        "id": "Cl8X0RaiGabJ",
        "colab": {
          "base_uri": "https://localhost:8080/",
          "height": 69
        },
        "outputId": "03b3d01f-ec72-4bac-da30-453f4c9019c4"
      },
      "source": [
        "nlp = spacy.load('en')\n",
        "def clean_review_spacy(review: str) -> str:\n",
        "  review = BeautifulSoup(review, \"html.parser\").get_text()\n",
        "  review = review.lower()\n",
        "  review = re.sub('[^a-z0-9]', ' ', review)\n",
        "  review = [tok.text for tok in nlp.tokenizer(review)]\n",
        "  review = [word for word in review if nlp.vocab[word].is_stop == False]\n",
        "  review = [word.lemma_ for word in spacy.tokens.Doc(nlp.vocab, words=review)]\n",
        "  while ' ' in review: review.remove(' ') #bug spacy\n",
        "  review = ' '.join(review)\n",
        "  return review\n",
        "\n",
        "# Mesmo método em NLTK, porém, optei pelo spacy\n",
        "'''stop_words = set(stopwords.words('english'))\n",
        "#stemmer = SnowballStemmer(\"english\") \n",
        "lem = WordNetLemmatizer()\n",
        "def clean_review(review: str) -> str:\n",
        "  review = BeautifulSoup(review, \"html.parser\").get_text()\n",
        "  review = review.lower()\n",
        "  review = re.sub('[^a-z0-9]', ' ', review)\n",
        "  review = nltk.word_tokenize(review)\n",
        "  review = [word for word in review if not word in stop_words]\n",
        "  review = [lem.lemmatize(word) for word in review]\n",
        "  #review = [stemmer.stem(word) for word in review]\n",
        "  review = ' '.join(review)\n",
        "  return review'''"
      ],
      "id": "Cl8X0RaiGabJ",
      "execution_count": null,
      "outputs": [
        {
          "output_type": "execute_result",
          "data": {
            "application/vnd.google.colaboratory.intrinsic+json": {
              "type": "string"
            },
            "text/plain": [
              "'stop_words = set(stopwords.words(\\'english\\'))\\n#stemmer = SnowballStemmer(\"english\") \\nlem = WordNetLemmatizer()\\ndef clean_review(review: str) -> str:\\n  review = BeautifulSoup(review, \"html.parser\").get_text()\\n  review = review.lower()\\n  review = re.sub(\\'[^a-z0-9]\\', \\' \\', review)\\n  review = nltk.word_tokenize(review)\\n  review = [word for word in review if not word in stop_words]\\n  review = [lem.lemmatize(word) for word in review]\\n  #review = [stemmer.stem(word) for word in review]\\n  review = \\' \\'.join(review)\\n  return review'"
            ]
          },
          "metadata": {
            "tags": []
          },
          "execution_count": 5
        }
      ]
    },
    {
      "cell_type": "code",
      "metadata": {
        "id": "-1WOsR3sxxCC",
        "colab": {
          "base_uri": "https://localhost:8080/"
        },
        "outputId": "f2f2e0ee-46d9-4de7-bdad-35627555d625"
      },
      "source": [
        "clean_train = []\n",
        "clean_test = []\n",
        "train_iter, test_iter = datasets.IMDB()\n",
        "for label, text in train_iter:\n",
        "  clean_train.append((clean_review_spacy(text), label))\n",
        "\n",
        "for label, text in test_iter:\n",
        "  clean_test.append((clean_review_spacy(text), label))\n",
        "\n",
        "print(clean_train[0])\n",
        "print(clean_test[0])"
      ],
      "id": "-1WOsR3sxxCC",
      "execution_count": null,
      "outputs": [
        {
          "output_type": "stream",
          "text": [
            "('rent curious yellow video store controversy surround release 1967 hear seize u s custom try enter country fan film consider controversial plot center young swedish drama student name lena want learn life particular want focus attention make sort documentary average swede think certain political issue vietnam war race issue unite state ask politician ordinary denizen stockholm opinion politic sex drama teacher classmate marry man kill curious yellow 40 year ago consider pornographic sex nudity scene far s shoot like cheaply porno countryman mind find shock reality sex nudity major staple swedish cinema ingmar bergman arguably answer good old boy john ford sex scene film commend filmmakers fact sex show film show artistic purpose shock people money show pornographic theater america curious yellow good film want study meat potato pun intend swedish cinema film doesn t plot', 'neg')\n",
            "('love sci fi will lot sci fi movie tv usually underfund appreciate misunderstand try like good tv sci fi babylon 5 star trek original    silly prosthetic cheap cardboard set stilt dialogue cg doesn t match background painfully dimensional character overcome sci fi set    be sure think babylon 5 good sci fi tv s s clich have uninspiring    viewer like emotion character development sci fi genre seriously cf star trek    treat important issue philosophy s difficult care character simply foolish miss spark life action reaction wooden predictable painful watch maker earth know s rubbish gene roddenberry s earth      people continue watch roddenberry s ash turn orbit dull cheap poorly edit watch advert break bring home trudge trabant lumber space spoiler kill main character bring actor jeeez dallas', 'neg')\n"
          ],
          "name": "stdout"
        }
      ]
    },
    {
      "cell_type": "markdown",
      "metadata": {
        "id": "YFk8OGuCTwRi"
      },
      "source": [
        "# Demonstração da transformação nos dados"
      ],
      "id": "YFk8OGuCTwRi"
    },
    {
      "cell_type": "markdown",
      "metadata": {
        "id": "gR9bFgCzZKRU"
      },
      "source": [
        "Os seguintes códigos são somente para demonstrar como os dados são transformados para poderem ser processados por uma RNN/LSTM/GRU. Utilizarei somente dois registros para facilitar a exemplificação.\n",
        "\n",
        "Iinicialmente é realizado o PLN para limpar o texto."
      ],
      "id": "gR9bFgCzZKRU"
    },
    {
      "cell_type": "code",
      "metadata": {
        "colab": {
          "base_uri": "https://localhost:8080/"
        },
        "id": "2RVsy3qNYwwc",
        "outputId": "8c27d52d-1457-455b-f9d1-b3afcd6e2491"
      },
      "source": [
        "print(\"Texto original:\", df_test.iloc[1].review)\n",
        "print(\"Sentimento:\", df_test.iloc[1].sentiment)\n",
        "print('')\n",
        "print(\"Texto após PLN:\", clean_test[1][0])\n",
        "print(\"Sentimento:\", clean_test[1][1])\n",
        "\n",
        "print('-' * 1000)\n",
        "print(\"Texto original:\", df_test.iloc[24999].review)\n",
        "print(\"Sentimento:\", df_test.iloc[24999].sentiment)\n",
        "print('')\n",
        "print(\"Texto após PLN:\", clean_test[24999][0])\n",
        "print(\"Sentimento \", clean_test[24999][1])"
      ],
      "id": "2RVsy3qNYwwc",
      "execution_count": null,
      "outputs": [
        {
          "output_type": "stream",
          "text": [
            "Texto original:  Worth the entertainment value of a rental, especially if you like action movies. This one features the usual car chases, fights with the great Van Damme kick style, shooting battles with the 40 shell load shotgun, and even terrorist style bombs. All of this is entertaining and competently handled but there is nothing that really blows you away if you've seen your share before.<br /><br />The plot is made interesting by the inclusion of a rabbit, which is clever but hardly profound. Many of the characters are heavily stereotyped -- the angry veterans, the terrified illegal aliens, the crooked cops, the indifferent feds, the bitchy tough lady station head, the crooked politician, the fat federale who looks like he was typecast as the Mexican in a Hollywood movie from the 1940s. All passably acted but again nothing special.<br /><br />I thought the main villains were pretty well done and fairly well acted. By the end of the movie you certainly knew who the good guys were and weren't. There was an emotional lift as the really bad ones got their just deserts. Very simplistic, but then you weren't expecting Hamlet, right? The only thing I found really annoying was the constant cuts to VDs daughter during the last fight scene.<br /><br />Not bad. Not good. Passable 4.\n",
            "Sentimento:  neg\n",
            "\n",
            "Texto após PLN:  worth entertainment value rental especially like action movie feature usual car chase fight great van damme kick style shoot battle 40 shell load shotgun terrorist style bomb entertain competently handle blow away have see share plot interest inclusion rabbit clever hardly profound character heavily stereotype     angry veteran terrify illegal alien crook cop indifferent feds bitchy tough lady station head crook politician fat federale look like typecast mexican hollywood movie 1940s passably act special think main villain pretty fairly act end movie certainly know good guy weren t emotional lift bad one get desert simplistic weren t expect hamlet right thing find annoy constant cut vds daughter fight scene bad good passable 4\n",
            "Sentimento:  neg\n",
            "----------------------------------------------------------------------------------------------------------------------------------------------------------------------------------------------------------------------------------------------------------------------------------------------------------------------------------------------------------------------------------------------------------------------------------------------------------------------------------------------------------------------------------------------------------------------------------------------------------------------------------------------------------------------------------------------------------------------------------------------------------------------------------------------------------------------------------------------------------------------------------------------------------------------------------------------------------------------------------------------------------------------------------------\n",
            "Texto original:  I caught this movie on the Sci-Fi channel recently. It actually turned out to be pretty decent as far as B-list horror/suspense films go. Two guys (one naive and one loud mouthed a**) take a road trip to stop a wedding but have the worst possible luck when a maniac in a freaky, make-shift tank/truck hybrid decides to play cat-and-mouse with them. Things are further complicated when they pick up a ridiculously whorish hitchhiker. What makes this film unique is that the combination of comedy and terror actually work in this movie, unlike so many others. The two guys are likable enough and there are some good chase/suspense scenes. Nice pacing and comic timing make this movie more than passable for the horror/slasher buff. Definitely worth checking out.\n",
            "Sentimento:  pos\n",
            "\n",
            "Texto após PLN:  catch movie sci fi channel recently actually turn pretty decent far b list horror suspense film guy naive loud mouth     road trip stop wed wrong possible luck maniac freaky shift tank truck hybrid decide play cat mouse thing complicate pick ridiculously whorish hitchhiker make film unique combination comedy terror actually work movie unlike guy likable good chase suspense scene nice pace comic time movie passable horror slasher buff definitely worth check\n",
            "Sentimento:  pos\n"
          ],
          "name": "stdout"
        }
      ]
    },
    {
      "cell_type": "markdown",
      "metadata": {
        "id": "OnxAF_d2Nc2p"
      },
      "source": [
        "Irei utilizar estruturas do pytorch com spacy para tokenizar meu texto (REVIEW) e a categoria (SENTIMENT). A partir disto, será gerado um vocabulário para cada palavra do texto e das categorias. Ao final, gero uma estrutura Iterator do pytorch para conseguir treinar/avaliar utilizando batch."
      ],
      "id": "OnxAF_d2Nc2p"
    },
    {
      "cell_type": "code",
      "metadata": {
        "id": "CPKs21APadmF"
      },
      "source": [
        "CLEAN_TEST = [clean_test[1],clean_test[24999]]\n",
        "TEXT_TEST = Field(tokenize=\"spacy\", include_lengths=True)\n",
        "LABEL_TEST = LabelField(dtype=torch.float)\n",
        "FIELDS_TEST = [('text', TEXT_TEST), ('category', LABEL_TEST)]\n",
        "\n",
        "DS_TEST = Dataset(list(map(lambda x: Example.fromlist(list(x), fields=FIELDS_TEST), CLEAN_TEST)), fields=FIELDS_TEST)\n",
        "TEXT_TEST.build_vocab(DS_TEST,  max_size=10000, min_freq=1)\n",
        "LABEL_TEST.build_vocab(DS_TEST)\n",
        "\n",
        "dataiter_TEST = Iterator(DS_TEST, batch_size=2, sort_key=lambda x: len(x), device=device)"
      ],
      "id": "CPKs21APadmF",
      "execution_count": null,
      "outputs": []
    },
    {
      "cell_type": "markdown",
      "metadata": {
        "id": "7vI2TFF0PGmn"
      },
      "source": [
        "Como somente existem dois registros, a frequência é 1 para positivo e 1 para negativo. O label neg ficou 0 e pos ficou 1."
      ],
      "id": "7vI2TFF0PGmn"
    },
    {
      "cell_type": "code",
      "metadata": {
        "colab": {
          "base_uri": "https://localhost:8080/"
        },
        "id": "gOOC4GACd2bM",
        "outputId": "cd3fffb4-abf8-4156-ee40-5c6cdde09754"
      },
      "source": [
        "LABEL_TEST.vocab.freqs"
      ],
      "id": "gOOC4GACd2bM",
      "execution_count": null,
      "outputs": [
        {
          "output_type": "execute_result",
          "data": {
            "text/plain": [
              "Counter({'neg': 1, 'pos': 1})"
            ]
          },
          "metadata": {
            "tags": []
          },
          "execution_count": 146
        }
      ]
    },
    {
      "cell_type": "code",
      "metadata": {
        "colab": {
          "base_uri": "https://localhost:8080/"
        },
        "id": "yMWJL29Qir3q",
        "outputId": "b553ce37-9254-4898-9ebb-ab3f3f50ee87"
      },
      "source": [
        "print(\"neg:\", LABEL_TEST.vocab['neg'])\n",
        "print(\"pos:\",LABEL_TEST.vocab['pos'])"
      ],
      "id": "yMWJL29Qir3q",
      "execution_count": null,
      "outputs": [
        {
          "output_type": "stream",
          "text": [
            "neg: 0\n",
            "pos: 1\n"
          ],
          "name": "stdout"
        }
      ]
    },
    {
      "cell_type": "markdown",
      "metadata": {
        "id": "sK0-38juPbY-"
      },
      "source": [
        "Apresento o token correspondente as duas primeiras palavras dos textos. Também apresento uma palavra que não existe no vocabulário, ficando como 0."
      ],
      "id": "sK0-38juPbY-"
    },
    {
      "cell_type": "code",
      "metadata": {
        "colab": {
          "base_uri": "https://localhost:8080/"
        },
        "id": "H9HilhoDfz0y",
        "outputId": "ecacba99-fa4d-4fed-b91e-8ec4d3cef9d1"
      },
      "source": [
        "print(\"catch token:\", TEXT_TEST.vocab.stoi[\"catch\"])\n",
        "print(\"movie token:\", TEXT_TEST.vocab.stoi[\"movie\"])\n",
        "print(\"worth token:\", TEXT_TEST.vocab.stoi[\"worth\"])\n",
        "print(\"entertainment token:\", TEXT_TEST.vocab.stoi[\"entertainment\"])\n",
        "print(\"teste token:\", TEXT_TEST.vocab.stoi[\"teste\"]) # nao exite no vocab"
      ],
      "id": "H9HilhoDfz0y",
      "execution_count": null,
      "outputs": [
        {
          "output_type": "stream",
          "text": [
            "catch token: 40\n",
            "movie token: 2\n",
            "worth token: 23\n",
            "entertainment token: 64\n",
            "teste token: 0\n"
          ],
          "name": "stdout"
        }
      ]
    },
    {
      "cell_type": "markdown",
      "metadata": {
        "id": "TeJdR303Pr7m"
      },
      "source": [
        "Irei percorrer a estrutura do BATCH (somente um registro com 2 batch). \n",
        "\n",
        "1. A primeira posição do *text* contém os textos do batch tokenizados. **Notar que na primeira posição é o primeiro caractere do primeiro texto (catch = 40). Na segunda posição é o primeiro caractere do segundo texto (worth 23).** \n",
        "\n",
        "2. A segunda posição do *text* apresenta o tamanho real do texto para ser utilizado na predição da rede recorrente. Isto é utilizado devido aos limites na entrada de redes neurais, quando se trabalha com dados textuais de tamanhos variados.\n",
        "\n",
        "3. O *label* apresenta o neg/pos já tokenizados."
      ],
      "id": "TeJdR303Pr7m"
    },
    {
      "cell_type": "code",
      "metadata": {
        "colab": {
          "base_uri": "https://localhost:8080/"
        },
        "id": "DLDVPWQrgu0l",
        "outputId": "2fcffb1c-489e-493f-a138-10f058612eb0"
      },
      "source": [
        "for text, label in dataiter_TEST:\n",
        "  print(\"TEXTO TOKENIZADO\")\n",
        "  print(text[0])\n",
        "  print('')\n",
        "  print(\"TEXTO TAMANHO\")\n",
        "  print(text[1])\n",
        "  print('')\n",
        "  print(\"LABEL\")\n",
        "  print(label)"
      ],
      "id": "DLDVPWQrgu0l",
      "execution_count": null,
      "outputs": [
        {
          "output_type": "stream",
          "text": [
            "TEXTO TOKENIZADO\n",
            "tensor([[ 40,  23],\n",
            "        [  2,  64],\n",
            "        [124, 151],\n",
            "        [ 73, 120],\n",
            "        [ 42,  65],\n",
            "        [119,  14],\n",
            "        [  7,  27],\n",
            "        [146,   2],\n",
            "        [ 16,  70],\n",
            "        [ 57, 150],\n",
            "        [ 68,  38],\n",
            "        [ 32,   9],\n",
            "        [ 96,  11],\n",
            "        [ 13,  77],\n",
            "        [ 19, 152],\n",
            "        [ 12,  55],\n",
            "        [  4,  91],\n",
            "        [107,  18],\n",
            "        [ 99, 129],\n",
            "        [106,  33],\n",
            "        [  5,  26],\n",
            "        [123, 127],\n",
            "        [144,  97],\n",
            "        [136, 130],\n",
            "        [156, 140],\n",
            "        [ 54,  18],\n",
            "        [159,  36],\n",
            "        [116,  63],\n",
            "        [100,  49],\n",
            "        [103,  79],\n",
            "        [ 75,  35],\n",
            "        [128,  31],\n",
            "        [137,  81],\n",
            "        [145, 125],\n",
            "        [ 86, 126],\n",
            "        [ 58, 114],\n",
            "        [113,  90],\n",
            "        [ 39,  88],\n",
            "        [105, 118],\n",
            "        [ 21,  45],\n",
            "        [ 50,  80],\n",
            "        [112, 117],\n",
            "        [121,  43],\n",
            "        [157,  83],\n",
            "        [ 84, 135],\n",
            "        [102,   5],\n",
            "        [ 12,  29],\n",
            "        [148, 154],\n",
            "        [ 46, 138],\n",
            "        [ 47,  87],\n",
            "        [139,  28],\n",
            "        [  7,  10],\n",
            "        [158,  52],\n",
            "        [  2,  89],\n",
            "        [149,  72],\n",
            "        [  4,  34],\n",
            "        [ 95, 143],\n",
            "        [  3,  93],\n",
            "        [  9, 134],\n",
            "        [ 19,  82],\n",
            "        [ 17,  10],\n",
            "        [108, 115],\n",
            "        [110,  69],\n",
            "        [ 48,  71],\n",
            "        [142,  98],\n",
            "        [  2,  14],\n",
            "        [ 15, 147],\n",
            "        [ 13, 104],\n",
            "        [132,  85],\n",
            "        [ 37,   2],\n",
            "        [ 59,  24],\n",
            "        [ 23, 111],\n",
            "        [ 44,   6],\n",
            "        [  1, 133],\n",
            "        [  1, 141],\n",
            "        [  1, 101],\n",
            "        [  1, 155],\n",
            "        [  1,  16],\n",
            "        [  1,  67],\n",
            "        [  1,   6],\n",
            "        [  1,  62],\n",
            "        [  1,   2],\n",
            "        [  1,  41],\n",
            "        [  1,  92],\n",
            "        [  1,   3],\n",
            "        [  1,   4],\n",
            "        [  1,  22],\n",
            "        [  1,  20],\n",
            "        [  1,  61],\n",
            "        [  1,  94],\n",
            "        [  1,   8],\n",
            "        [  1, 109],\n",
            "        [  1,  76],\n",
            "        [  1,  60],\n",
            "        [  1, 131],\n",
            "        [  1,  22],\n",
            "        [  1,  20],\n",
            "        [  1,  66],\n",
            "        [  1,  78],\n",
            "        [  1, 122],\n",
            "        [  1,  21],\n",
            "        [  1,  74],\n",
            "        [  1,  30],\n",
            "        [  1,  51],\n",
            "        [  1,  53],\n",
            "        [  1, 153],\n",
            "        [  1,  56],\n",
            "        [  1,  11],\n",
            "        [  1,  17],\n",
            "        [  1,   8],\n",
            "        [  1,   3],\n",
            "        [  1,  15],\n",
            "        [  1,  25]], device='cuda:0')\n",
            "\n",
            "TEXTO TAMANHO\n",
            "tensor([ 73, 113], device='cuda:0')\n",
            "\n",
            "LABEL\n",
            "tensor([1., 0.], device='cuda:0')\n"
          ],
          "name": "stdout"
        }
      ]
    },
    {
      "cell_type": "markdown",
      "metadata": {
        "id": "M40xpJI8U3Hj"
      },
      "source": [
        "# Modelos"
      ],
      "id": "M40xpJI8U3Hj"
    },
    {
      "cell_type": "markdown",
      "metadata": {
        "id": "c0ofAx2jR0kX"
      },
      "source": [
        "Classe para representar uma RNN, LSTM ou GRU. Parâmetros:\n",
        "\n",
        "1. vocab_size: tamanho do vocabulário criado com os dados de treinamento\n",
        "2. embedding_dim: dimensão da camada de embedding\n",
        "3. hidden_dim: dimensão da camada oculta\n",
        "4. output_dim: dimensão de saída\n",
        "5. n_layer ***está adaptado para 1 ou 2 camadas***\n",
        "6. bidirectional: se a rede será bidirecional ou não\n",
        "7. Taxa de dropout\n",
        "8. id do pad\n",
        "9. id do unk\n",
        "10. tp: tipo da rede: RNN, LSTM ou GRU"
      ],
      "id": "c0ofAx2jR0kX"
    },
    {
      "cell_type": "code",
      "metadata": {
        "id": "gdiPKZW0ZpDj"
      },
      "source": [
        "class RNN(nn.Module):\n",
        "    def __init__( self, vocab_size, embedding_dim, hidden_dim, output_dim, n_layers, bidirectional, dropout, pad_idx, unk_idx, tp='RNN'):\n",
        "        super().__init__()\n",
        "\n",
        "        self.embedding = nn.Embedding(vocab_size, embedding_dim, padding_idx=pad_idx)\n",
        "        self.nlp = spacy.load(\"en\")\n",
        "        if tp == 'RNN':\n",
        "          self.rnn = nn.RNN(\n",
        "            embedding_dim,\n",
        "            hidden_dim,\n",
        "            num_layers=n_layers,\n",
        "            bidirectional=bidirectional,\n",
        "            dropout=dropout\n",
        "        )\n",
        "        elif tp == 'LSTM':\n",
        "          self.rnn = nn.LSTM(\n",
        "              embedding_dim,\n",
        "              hidden_dim,\n",
        "              num_layers=n_layers,\n",
        "              bidirectional=bidirectional,\n",
        "              dropout=dropout\n",
        "          )\n",
        "        elif tp == 'GRU':\n",
        "          self.rnn = nn.GRU(\n",
        "              embedding_dim,\n",
        "              hidden_dim,\n",
        "              num_layers=n_layers,\n",
        "              bidirectional=bidirectional,\n",
        "              dropout=dropout\n",
        "          )\n",
        "        \n",
        "        self.fc = nn.Linear(hidden_dim * 2, output_dim)\n",
        "        self.dropout = nn.Dropout(dropout)\n",
        "        self.text_vocab = None\n",
        "        self.label_vocab = None\n",
        "        self.tp = tp\n",
        "        \n",
        "        self.embedding.weight.data[unk_idx] = torch.zeros(embedding_dim)\n",
        "        self.embedding.weight.data[pad_idx] = torch.zeros(embedding_dim)\n",
        "        \n",
        "\n",
        "    def clean_review_spacy_token(self, review):\n",
        "        review = BeautifulSoup(review, \"html.parser\").get_text()\n",
        "        review = review.lower()\n",
        "        review = re.sub('[^a-z0-9]', ' ', review)\n",
        "        review = [tok.text for tok in self.nlp.tokenizer(review)]\n",
        "        review = [word for word in review if self.nlp.vocab[word].is_stop == False]\n",
        "        review = [word.lemma_ for word in spacy.tokens.Doc(self.nlp.vocab, words=review)]\n",
        "        while ' ' in review: review.remove(' ') #bug spacy\n",
        "        return review\n",
        "\n",
        "    def predict(self, review):\n",
        "        if self.text_vocab is None:\n",
        "          self.text_vocab = torch.load('text_vocab_obj.pth')\n",
        "        if self.label_vocab is None:\n",
        "          self.label_vocab = torch.load('label_vocab_obj.pth')\n",
        "\n",
        "        self.eval()\n",
        "        with torch.no_grad():\n",
        "          tokenized = self.clean_review_spacy_token(review)\n",
        "          indexed = [self.text_vocab.stoi[t] for t in tokenized]\n",
        "          length = [len(indexed)]\n",
        "          tensor = torch.LongTensor(indexed).to(device)\n",
        "          tensor = tensor.unsqueeze(1)\n",
        "\n",
        "          length_tensor = torch.LongTensor(length)\n",
        "          prediction = self(tensor, length_tensor)\n",
        "          prediction = int(torch.round(prediction.squeeze()))\n",
        "          if self.label_vocab.stoi['neg'] == 1: # PARA GARANTIR QUE O RETORNO FIQUE DE ACORDO COM O ENUNCIADO (1 POSITIVO 0 NEGATIVO)\n",
        "            prediction = 1 if prediction == 0 else 0\n",
        "          return prediction\n",
        "\n",
        "    def forward(self, text, text_lengths):\n",
        "        embedded = self.dropout(self.embedding(text))\n",
        "\n",
        "        # pack sequence\n",
        "        packed_embedded = nn.utils.rnn.pack_padded_sequence(embedded, text_lengths.cpu(), enforce_sorted=False) # devido a um bug, tem que colocar como cpu\n",
        "        \n",
        "        if self.tp == 'LSTM':\n",
        "          packed_output, (hidden, cell) = self.rnn(packed_embedded)\n",
        "        else:\n",
        "          packed_output, hidden = self.rnn(packed_embedded)\n",
        "        \n",
        "        # unpack sequence\n",
        "        #output, output_lengths = nn.utils.rnn.pad_packed_sequence(packed_output)\n",
        "\n",
        "        if self.rnn.num_layers == 2:\n",
        "          hidden = self.dropout(torch.cat((hidden[-2, :, :], hidden[-1, :, :]), dim=1))\n",
        "        else:\n",
        "          hidden = self.dropout(torch.cat((hidden[-1, :, :], hidden[0, :, :]), dim=1))\n",
        "        return torch.sigmoid(self.fc(hidden))"
      ],
      "id": "gdiPKZW0ZpDj",
      "execution_count": null,
      "outputs": []
    },
    {
      "cell_type": "markdown",
      "metadata": {
        "id": "zays0qoyTae-"
      },
      "source": [
        "Métodos para treinar e avaliar a rede. É necessário passar a estrutura de BATCH (treino, teste ou validação), o modelo e o dicionário de parâmetros como entrada. Estes métodos percorrem a estrutura de data loarder (batch), realizam a predição, calculam a loss e a acurácia. Como retorno: taxa de perda,acurácia\n",
        "\n",
        "Importante notar que no evaluate é desativado o gradiente e ativado o modo eval para o modelo não aprender com dados de teste e validação."
      ],
      "id": "zays0qoyTae-"
    },
    {
      "cell_type": "code",
      "metadata": {
        "id": "GLgrOgTSWICN"
      },
      "source": [
        "def train(dataloader, model, dict_params):\n",
        "    model.train()\n",
        "    train_loss, train_acc = 0, 0\n",
        "    for idx, (text, label) in enumerate(dataloader):\n",
        "        dict_params['OPTIMIZER'].zero_grad()\n",
        "        predited_label = model(text[0], text[1])\n",
        "        loss = dict_params['CRITERION'](predited_label.squeeze(), label)\n",
        "        loss.backward()\n",
        "        torch.nn.utils.clip_grad_norm_(model.parameters(), 5)\n",
        "        dict_params['OPTIMIZER'].step()\n",
        "        train_loss += loss.item()\n",
        "\n",
        "        classes = torch.round(predited_label.squeeze())\n",
        "        train_acc += torch.mean((classes == label).float())\n",
        "    return train_acc/len(dataloader), train_loss/len(dataloader)\n",
        "\n",
        "def evaluate(dataloader, model, dict_params, valid):\n",
        "    model.eval()\n",
        "    eval_loss, eval_acc = 0, 0\n",
        "    with torch.no_grad():\n",
        "        for idx, (text, label) in enumerate(dataloader):\n",
        "            predited_label = model(text[0], text[1])\n",
        "            if valid:\n",
        "              eval_loss += dict_params['CRITERION'](predited_label.squeeze(), label)\n",
        "\n",
        "            classes = torch.round(predited_label.squeeze())\n",
        "            eval_acc += torch.mean((classes == label).float())\n",
        "    return eval_acc/len(dataloader), eval_loss/len(dataloader)"
      ],
      "id": "GLgrOgTSWICN",
      "execution_count": null,
      "outputs": []
    },
    {
      "cell_type": "markdown",
      "metadata": {
        "id": "P0Z3f9VeUZGm"
      },
      "source": [
        "Método plot_loss_acc para impressão das métricas (loss, acc).\n",
        "\n",
        "Método execute_model para executar o modelo passado para ele. Isto inclui, treinar, avaliar e apresentar as métricas."
      ],
      "id": "P0Z3f9VeUZGm"
    },
    {
      "cell_type": "code",
      "metadata": {
        "id": "Uqd6jB437nfJ"
      },
      "source": [
        "def plot_loss_acc(train_losses_general: list, val_losses_general: list, train_accuracy_general: list, val_accuracy_general: list) -> None:\n",
        "  fig, axes = plt.subplots(nrows=1, ncols=2, figsize=(12, 6))\n",
        "  axes[0].plot(train_losses_general, label='Training loss')\n",
        "  axes[0].plot(val_losses_general, label='Validation loss')\n",
        "  axes[0].legend(frameon=False)\n",
        "\n",
        "  axes[1].plot(train_accuracy_general, label='Training acc')\n",
        "  axes[1].plot(val_accuracy_general, label='Validation acc')\n",
        "  axes[1].legend(frameon=False)\n",
        "  plt.show()\n",
        "\n",
        "def execute_model(model, dict_params, dataiter_train, dataiter_val, dataiter_test):\n",
        "  print(model)\n",
        "  # Crio a função de perda e o otimizador com base no que foi passado pelo dict\n",
        "  #criterion = dict_params['CRITERION']\n",
        "  if dict_params['OPTIMIZER'] == 'ADAM':\n",
        "    dict_params['OPTIMIZER'] = optim.Adam(model.parameters(), lr=dict_params['LEARNING_RATE']) #weight_decay=0.03\n",
        "  elif dict_params['OPTIMIZER'] == 'SGD': \n",
        "    dict_params['OPTIMIZER'] = torch.optim.SGD(model.parameters(), lr=dict_params['LEARNING_RATE'])\n",
        "\n",
        "  train_losses_general, val_losses_general, train_accuracy_general, val_accuracy_general = [], [], [], []\n",
        "  scheduler = torch.optim.lr_scheduler.StepLR(dict_params['OPTIMIZER'], 1.0, gamma=0.1)\n",
        "  total_accu = None\n",
        "\n",
        "  for e in range(dict_params['EPOCHS']):\n",
        "      epoch_start_time = time.time()\n",
        "      train_acc, train_loss = train(dataiter_train, model, dict_params)\n",
        "      val_acc, val_loss = evaluate(dataiter_val, model, dict_params, True)\n",
        "      if total_accu is not None and total_accu > val_acc:\n",
        "        scheduler.step()\n",
        "      else:\n",
        "        total_accu = val_acc\n",
        "\n",
        "      # Acumula as métricas para posterior impressão de gráficos\n",
        "      train_losses_general.append(train_loss)\n",
        "      val_losses_general.append(val_loss)\n",
        "      train_accuracy_general.append(train_acc)\n",
        "      val_accuracy_general.append(val_acc)\n",
        "\n",
        "      # Impressão da época/loss/acc de treino e validação\n",
        "      print(\"Epoch: {}/{}.. \".format(e+1,dict_params['EPOCHS']),\n",
        "            \"Train Loss: {:.4f}.. \".format(train_loss),\n",
        "            \"Val Loss: {:.4f}.. \".format(val_loss),\n",
        "            \"Train Acc: {:.4f}.. \".format(train_acc),\n",
        "            \"Val Acc: {:.4f}.. \".format(val_acc),\n",
        "            \"Time: {:5.2f}s\".format(time.time() - epoch_start_time))\n",
        "\n",
        "  # Impressão da loss/acc por época nos treinos e validações\n",
        "  plot_loss_acc(train_losses_general, val_losses_general, train_accuracy_general, val_accuracy_general)\n",
        "\n",
        "  # Executo o teste do modelo\n",
        "  test_acc, test_loss = evaluate(dataiter_test, model, dict_params, False)\n",
        "  print('-' * 59)\n",
        "  print(\"Test ACC: {:.4f}.. \".format(test_acc))\n",
        "  \n",
        "  return (model, dict_params)"
      ],
      "id": "Uqd6jB437nfJ",
      "execution_count": null,
      "outputs": []
    },
    {
      "cell_type": "markdown",
      "metadata": {
        "id": "WjFRbo_DU9uy"
      },
      "source": [
        "# Divisão e ajustes na base de dados"
      ],
      "id": "WjFRbo_DU9uy"
    },
    {
      "cell_type": "markdown",
      "metadata": {
        "id": "2i04ANf-UxKh"
      },
      "source": [
        "Após criar o modelo de RNN e métodos necessário para execução. Irei dividir minha base de treinamento em 0,05% para validação.\n",
        "\n",
        "Abaixo será feito o mesmo que já havia sido realizado como exemplo anteriormente. Porém, com mais registros:\n",
        "\n",
        "\n",
        "Irei gerar meu vocabulário com os dados de treinamento. Tokenizar, disponibilizar tamanho dos textos. O vocab terá uma frequência minima de 10 palavras (ou seja, a palavra tem que aparecer pelo menos 10 vezes no texto geral (contando todos os exemplos de treino)).\n",
        "\n",
        "Transformo meus dados de teste e validação para a mesma estrutura em que foi realizado o treinamento."
      ],
      "id": "2i04ANf-UxKh"
    },
    {
      "cell_type": "code",
      "metadata": {
        "id": "Hsz46r5Xtjtn"
      },
      "source": [
        "params1 = dict()\n",
        "params1['BATCH_SIZE'] = 64\n",
        "\n",
        "num_train = int(len(clean_train) * 0.95)\n",
        "split_train, split_valid = \\\n",
        "        random_split(clean_train, [num_train, len(clean_train) - num_train])\n",
        "\n",
        "TEXT = Field(tokenize=\"spacy\", include_lengths=True)\n",
        "LABEL = LabelField(dtype=torch.float)\n",
        "FIELDS = [('text', TEXT), ('category', LABEL)]\n",
        "\n",
        "examples_train = list(map(lambda x: Example.fromlist(list(x), fields=FIELDS), split_train))\n",
        "ds_train = Dataset(examples_train, fields=FIELDS)\n",
        "TEXT.build_vocab(ds_train,  max_size=100000, min_freq=10)\n",
        "LABEL.build_vocab(ds_train)\n",
        "\n",
        "examples_valid = list(map(lambda x: Example.fromlist(list(x), fields=FIELDS), split_valid))\n",
        "ds_val = Dataset(examples_valid, fields=FIELDS)\n",
        "dataiter_val = Iterator(ds_val, batch_size=params1['BATCH_SIZE'], sort_key=lambda x: len(x), device=device)\n",
        "\n",
        "examples_test = list(map(lambda x: Example.fromlist(list(x), fields=FIELDS), clean_test))\n",
        "ds_test = Dataset(examples_test, fields=FIELDS)\n",
        "dataiter_test = Iterator(ds_test, batch_size=params1['BATCH_SIZE'], sort_key=lambda x: len(x), device=device)\n",
        "\n",
        "dataiter_train = Iterator(ds_train, batch_size=params1['BATCH_SIZE'], sort_key=lambda x: len(x), device=device)"
      ],
      "id": "Hsz46r5Xtjtn",
      "execution_count": null,
      "outputs": []
    },
    {
      "cell_type": "code",
      "metadata": {
        "colab": {
          "base_uri": "https://localhost:8080/"
        },
        "id": "vr5SBoVN3nrd",
        "outputId": "e6bc58aa-b3a8-43b0-ce83-1f4ba76fdd20"
      },
      "source": [
        "print(\"Tamanho do vocabulário:\", len(TEXT.vocab))\n",
        "print(\"Frequência dos sentimentos nos dados de treino:\", LABEL.vocab.freqs)\n",
        "print(\"Após fazer transformar em label:\", LABEL.vocab.stoi) # No método predict, terei de inverter o 0 para negativo e 1 para positivo para atender o enunciado"
      ],
      "id": "vr5SBoVN3nrd",
      "execution_count": null,
      "outputs": [
        {
          "output_type": "stream",
          "text": [
            "Tamanho do vocabulário: 15245\n",
            "Frequência dos sentimentos nos dados de treino: Counter({'pos': 11903, 'neg': 11847})\n",
            "Após fazer transformar em label: defaultdict(None, {'pos': 0, 'neg': 1})\n"
          ],
          "name": "stdout"
        }
      ]
    },
    {
      "cell_type": "markdown",
      "metadata": {
        "id": "V1lvHpEjTn46"
      },
      "source": [
        "# Experimentos"
      ],
      "id": "V1lvHpEjTn46"
    },
    {
      "cell_type": "markdown",
      "metadata": {
        "id": "zRNcnOK3WBB2"
      },
      "source": [
        "Abaixo irei realizar os experimentos. O primeiro será na estrutura mais simples, uma RNN. \n",
        "\n",
        "1. Utilizarei a função de otimização ADAM para todos os experimentos.\n",
        "2. Utilizarei a função de perda BCELoss (para dados binários) para todos os experimentos.\n",
        "3. A rede possui a função de ativação sigmoid, eficiente para funções binárias (0 e 1).\n",
        "4. Utilizarei o dropout 0.3 para todos os experimentos.\n",
        "5. Utilizarei LR de 0.001 para todos os experimentos.\n",
        "6. Utilizarei 256 dimensões na camada oculta para todos os experimentos.\n",
        "7. Utilizarei 100 dimensões na camada de embedding para todos os experimentos.\n",
        "8. A saída é 1 e a entrada é o tamanho do vocabulário.\n",
        "\n",
        "* Os demais parâmetros irei variar. Lembrando que redes recorrentes demoram para rodar. É aconselhável utilizar GPU."
      ],
      "id": "zRNcnOK3WBB2"
    },
    {
      "cell_type": "code",
      "metadata": {
        "colab": {
          "base_uri": "https://localhost:8080/",
          "height": 989
        },
        "id": "O7hcbRFij7Ob",
        "outputId": "073073e0-ebb4-4dab-8180-d82b1556945c"
      },
      "source": [
        "params1['EPOCHS'] = 25\n",
        "params1['LEARNING_RATE'] = 0.001\n",
        "#params1['CRITERION'] = nn.BCEWithLogitsLoss().to(device)\n",
        "params1['CRITERION'] = nn.BCELoss().to(device)\n",
        "params1['OPTIMIZER'] = 'ADAM'\n",
        "params1['HIDDEN_DIM'] = 256\n",
        "params1['EMBEDDING_DIM'] = 100\n",
        "params1['OUTPUT_DIM'] = 1\n",
        "params1['N_LAYERS'] = 1\n",
        "params1['BIDIRECTIONAL'] = False\n",
        "params1['DROPOUT'] = 0.3\n",
        "\n",
        "INPUT_DIM = len(TEXT.vocab)\n",
        "model = RNN(\n",
        "      INPUT_DIM,\n",
        "      params1['EMBEDDING_DIM'],\n",
        "      params1['HIDDEN_DIM'],\n",
        "      params1['OUTPUT_DIM'],\n",
        "      params1['N_LAYERS'],\n",
        "      params1['BIDIRECTIONAL'],\n",
        "      params1['DROPOUT'],\n",
        "      TEXT.vocab.stoi[TEXT.pad_token],\n",
        "      TEXT.vocab.stoi[TEXT.unk_token],\n",
        "      'RNN'\n",
        ").to(device)\n",
        "\n",
        "model, params1 = execute_model(model, params1, dataiter_train, dataiter_val, dataiter_test)"
      ],
      "id": "O7hcbRFij7Ob",
      "execution_count": null,
      "outputs": [
        {
          "output_type": "stream",
          "text": [
            "/usr/local/lib/python3.7/dist-packages/torch/nn/modules/rnn.py:65: UserWarning: dropout option adds dropout after all but last recurrent layer, so non-zero dropout expects num_layers greater than 1, but got dropout=0.3 and num_layers=1\n",
            "  \"num_layers={}\".format(dropout, num_layers))\n"
          ],
          "name": "stderr"
        },
        {
          "output_type": "stream",
          "text": [
            "RNN(\n",
            "  (embedding): Embedding(15245, 100, padding_idx=1)\n",
            "  (rnn): RNN(100, 256, dropout=0.3)\n",
            "  (fc): Linear(in_features=512, out_features=1, bias=True)\n",
            "  (dropout): Dropout(p=0.3, inplace=False)\n",
            ")\n",
            "Epoch: 1/25..  Train Loss: 0.6585..  Val Loss: 0.6039..  Train Acc: 0.6061..  Val Acc: 0.6875..  Time: 40.86s\n",
            "Epoch: 2/25..  Train Loss: 0.6104..  Val Loss: 0.5519..  Train Acc: 0.6735..  Val Acc: 0.7460..  Time: 40.91s\n",
            "Epoch: 3/25..  Train Loss: 0.5681..  Val Loss: 0.5469..  Train Acc: 0.7103..  Val Acc: 0.7384..  Time: 41.13s\n",
            "Epoch: 4/25..  Train Loss: 0.5117..  Val Loss: 0.5027..  Train Acc: 0.7613..  Val Acc: 0.7655..  Time: 41.55s\n",
            "Epoch: 5/25..  Train Loss: 0.4940..  Val Loss: 0.4894..  Train Acc: 0.7745..  Val Acc: 0.7723..  Time: 40.97s\n",
            "Epoch: 6/25..  Train Loss: 0.4769..  Val Loss: 0.4774..  Train Acc: 0.7834..  Val Acc: 0.7820..  Time: 40.84s\n",
            "Epoch: 7/25..  Train Loss: 0.4578..  Val Loss: 0.4625..  Train Acc: 0.7940..  Val Acc: 0.7881..  Time: 40.74s\n",
            "Epoch: 8/25..  Train Loss: 0.4489..  Val Loss: 0.4585..  Train Acc: 0.7963..  Val Acc: 0.7846..  Time: 40.89s\n",
            "Epoch: 9/25..  Train Loss: 0.4359..  Val Loss: 0.4499..  Train Acc: 0.8030..  Val Acc: 0.7918..  Time: 41.33s\n",
            "Epoch: 10/25..  Train Loss: 0.4347..  Val Loss: 0.4544..  Train Acc: 0.8037..  Val Acc: 0.7912..  Time: 40.72s\n",
            "Epoch: 11/25..  Train Loss: 0.4351..  Val Loss: 0.4558..  Train Acc: 0.8052..  Val Acc: 0.7919..  Time: 40.84s\n",
            "Epoch: 12/25..  Train Loss: 0.4352..  Val Loss: 0.4559..  Train Acc: 0.8050..  Val Acc: 0.7904..  Time: 40.43s\n",
            "Epoch: 13/25..  Train Loss: 0.4356..  Val Loss: 0.4550..  Train Acc: 0.8032..  Val Acc: 0.7904..  Time: 40.34s\n",
            "Epoch: 14/25..  Train Loss: 0.4365..  Val Loss: 0.4577..  Train Acc: 0.8020..  Val Acc: 0.7904..  Time: 40.58s\n",
            "Epoch: 15/25..  Train Loss: 0.4350..  Val Loss: 0.4586..  Train Acc: 0.8037..  Val Acc: 0.7890..  Time: 40.45s\n",
            "Epoch: 16/25..  Train Loss: 0.4398..  Val Loss: 0.4564..  Train Acc: 0.8013..  Val Acc: 0.7897..  Time: 40.51s\n",
            "Epoch: 17/25..  Train Loss: 0.4370..  Val Loss: 0.4548..  Train Acc: 0.8034..  Val Acc: 0.7911..  Time: 40.35s\n",
            "Epoch: 18/25..  Train Loss: 0.4371..  Val Loss: 0.4568..  Train Acc: 0.8044..  Val Acc: 0.7897..  Time: 40.42s\n",
            "Epoch: 19/25..  Train Loss: 0.4351..  Val Loss: 0.4559..  Train Acc: 0.8054..  Val Acc: 0.7904..  Time: 40.39s\n",
            "Epoch: 20/25..  Train Loss: 0.4372..  Val Loss: 0.4544..  Train Acc: 0.8037..  Val Acc: 0.7911..  Time: 41.08s\n",
            "Epoch: 21/25..  Train Loss: 0.4358..  Val Loss: 0.4569..  Train Acc: 0.8050..  Val Acc: 0.7904..  Time: 41.54s\n",
            "Epoch: 22/25..  Train Loss: 0.4357..  Val Loss: 0.4555..  Train Acc: 0.8033..  Val Acc: 0.7897..  Time: 42.83s\n",
            "Epoch: 23/25..  Train Loss: 0.4346..  Val Loss: 0.4527..  Train Acc: 0.8018..  Val Acc: 0.7932..  Time: 41.00s\n",
            "Epoch: 24/25..  Train Loss: 0.4399..  Val Loss: 0.4620..  Train Acc: 0.8019..  Val Acc: 0.7869..  Time: 41.59s\n",
            "Epoch: 25/25..  Train Loss: 0.4382..  Val Loss: 0.4587..  Train Acc: 0.8006..  Val Acc: 0.7890..  Time: 41.39s\n"
          ],
          "name": "stdout"
        },
        {
          "output_type": "display_data",
          "data": {
            "image/png": "[encoded data removed]",
            "text/plain": [
              "<Figure size 864x432 with 2 Axes>"
            ]
          },
          "metadata": {
            "tags": [],
            "needs_background": "light"
          }
        },
        {
          "output_type": "stream",
          "text": [
            "-----------------------------------------------------------\n",
            "Test ACC: 0.7953.. \n"
          ],
          "name": "stdout"
        }
      ]
    },
    {
      "cell_type": "code",
      "metadata": {
        "colab": {
          "base_uri": "https://localhost:8080/",
          "height": 819
        },
        "id": "UE5-FcXIIqBJ",
        "outputId": "65f396d7-b23f-4c6e-c2bd-8317fa116d2b"
      },
      "source": [
        "params1['EPOCHS'] = 15\n",
        "params1['CRITERION'] = nn.BCELoss().to(device)\n",
        "params1['OPTIMIZER'] = 'ADAM'\n",
        "params1['N_LAYERS'] = 1\n",
        "params1['BIDIRECTIONAL'] = False\n",
        "\n",
        "INPUT_DIM = len(TEXT.vocab)\n",
        "model = RNN(\n",
        "      INPUT_DIM,\n",
        "      params1['EMBEDDING_DIM'],\n",
        "      params1['HIDDEN_DIM'],\n",
        "      params1['OUTPUT_DIM'],\n",
        "      params1['N_LAYERS'],\n",
        "      params1['BIDIRECTIONAL'],\n",
        "      params1['DROPOUT'],\n",
        "      TEXT.vocab.stoi[TEXT.pad_token],\n",
        "      TEXT.vocab.stoi[TEXT.unk_token],\n",
        "      'LSTM'\n",
        ").to(device)\n",
        "\n",
        "model, params1 = execute_model(model, params1, dataiter_train, dataiter_val, dataiter_test)"
      ],
      "id": "UE5-FcXIIqBJ",
      "execution_count": null,
      "outputs": [
        {
          "output_type": "stream",
          "text": [
            "/usr/local/lib/python3.7/dist-packages/torch/nn/modules/rnn.py:65: UserWarning: dropout option adds dropout after all but last recurrent layer, so non-zero dropout expects num_layers greater than 1, but got dropout=0.3 and num_layers=1\n",
            "  \"num_layers={}\".format(dropout, num_layers))\n"
          ],
          "name": "stderr"
        },
        {
          "output_type": "stream",
          "text": [
            "RNN(\n",
            "  (embedding): Embedding(15245, 100, padding_idx=1)\n",
            "  (rnn): LSTM(100, 256, dropout=0.3)\n",
            "  (fc): Linear(in_features=512, out_features=1, bias=True)\n",
            "  (dropout): Dropout(p=0.3, inplace=False)\n",
            ")\n",
            "Epoch: 1/15..  Train Loss: 0.6145..  Val Loss: 0.5714..  Train Acc: 0.6507..  Val Acc: 0.7204..  Time: 39.59s\n",
            "Epoch: 2/15..  Train Loss: 0.4913..  Val Loss: 0.4281..  Train Acc: 0.7664..  Val Acc: 0.8224..  Time: 39.73s\n",
            "Epoch: 3/15..  Train Loss: 0.4117..  Val Loss: 0.3886..  Train Acc: 0.8168..  Val Acc: 0.8434..  Time: 40.01s\n",
            "Epoch: 4/15..  Train Loss: 0.3535..  Val Loss: 0.3666..  Train Acc: 0.8497..  Val Acc: 0.8466..  Time: 40.53s\n",
            "Epoch: 5/15..  Train Loss: 0.2970..  Val Loss: 0.3300..  Train Acc: 0.8784..  Val Acc: 0.8651..  Time: 39.64s\n",
            "Epoch: 6/15..  Train Loss: 0.2598..  Val Loss: 0.3260..  Train Acc: 0.8977..  Val Acc: 0.8756..  Time: 40.01s\n",
            "Epoch: 7/15..  Train Loss: 0.2314..  Val Loss: 0.3226..  Train Acc: 0.9096..  Val Acc: 0.8901..  Time: 39.74s\n",
            "Epoch: 8/15..  Train Loss: 0.1966..  Val Loss: 0.3546..  Train Acc: 0.9247..  Val Acc: 0.8815..  Time: 39.54s\n",
            "Epoch: 9/15..  Train Loss: 0.1613..  Val Loss: 0.3418..  Train Acc: 0.9383..  Val Acc: 0.8876..  Time: 39.80s\n",
            "Epoch: 10/15..  Train Loss: 0.1557..  Val Loss: 0.3505..  Train Acc: 0.9389..  Val Acc: 0.8840..  Time: 39.58s\n",
            "Epoch: 11/15..  Train Loss: 0.1508..  Val Loss: 0.3506..  Train Acc: 0.9426..  Val Acc: 0.8825..  Time: 39.30s\n",
            "Epoch: 12/15..  Train Loss: 0.1548..  Val Loss: 0.3411..  Train Acc: 0.9395..  Val Acc: 0.8859..  Time: 39.96s\n",
            "Epoch: 13/15..  Train Loss: 0.1537..  Val Loss: 0.3505..  Train Acc: 0.9412..  Val Acc: 0.8825..  Time: 39.73s\n",
            "Epoch: 14/15..  Train Loss: 0.1526..  Val Loss: 0.3473..  Train Acc: 0.9418..  Val Acc: 0.8832..  Time: 39.85s\n",
            "Epoch: 15/15..  Train Loss: 0.1538..  Val Loss: 0.3495..  Train Acc: 0.9406..  Val Acc: 0.8825..  Time: 40.23s\n"
          ],
          "name": "stdout"
        },
        {
          "output_type": "display_data",
          "data": {
            "image/png": "[encoded data removed]",
            "text/plain": [
              "<Figure size 864x432 with 2 Axes>"
            ]
          },
          "metadata": {
            "tags": [],
            "needs_background": "light"
          }
        },
        {
          "output_type": "stream",
          "text": [
            "-----------------------------------------------------------\n",
            "Test ACC: 0.8690.. \n"
          ],
          "name": "stdout"
        }
      ]
    },
    {
      "cell_type": "code",
      "metadata": {
        "colab": {
          "base_uri": "https://localhost:8080/",
          "height": 765
        },
        "id": "2tyUQwXfHdu6",
        "outputId": "c2dfa9a0-45ba-4eec-83e1-66ef0190e227"
      },
      "source": [
        "params1['EPOCHS'] = 15\n",
        "params1['CRITERION'] = nn.BCELoss().to(device)\n",
        "params1['OPTIMIZER'] = 'ADAM'\n",
        "params1['N_LAYERS'] = 2\n",
        "params1['BIDIRECTIONAL'] = True\n",
        "\n",
        "INPUT_DIM = len(TEXT.vocab)\n",
        "model = RNN(\n",
        "      INPUT_DIM,\n",
        "      params1['EMBEDDING_DIM'],\n",
        "      params1['HIDDEN_DIM'],\n",
        "      params1['OUTPUT_DIM'],\n",
        "      params1['N_LAYERS'],\n",
        "      params1['BIDIRECTIONAL'],\n",
        "      params1['DROPOUT'],\n",
        "      TEXT.vocab.stoi[TEXT.pad_token],\n",
        "      TEXT.vocab.stoi[TEXT.unk_token]\n",
        ").to(device)\n",
        "\n",
        "model, params1 = execute_model(model, params1, dataiter_train, dataiter_val, dataiter_test)"
      ],
      "id": "2tyUQwXfHdu6",
      "execution_count": null,
      "outputs": [
        {
          "output_type": "stream",
          "text": [
            "RNN(\n",
            "  (embedding): Embedding(15245, 100, padding_idx=1)\n",
            "  (rnn): LSTM(100, 256, num_layers=2, dropout=0.3, bidirectional=True)\n",
            "  (fc): Linear(in_features=512, out_features=1, bias=True)\n",
            "  (dropout): Dropout(p=0.3, inplace=False)\n",
            ")\n",
            "Epoch: 1/15..  Train Loss: 0.5853..  Val Loss: 0.5999..  Train Acc: 0.6800..  Val Acc: 0.7074..  Time: 219.94s\n",
            "Epoch: 2/15..  Train Loss: 0.4660..  Val Loss: 0.4271..  Train Acc: 0.7795..  Val Acc: 0.8153..  Time: 219.13s\n",
            "Epoch: 3/15..  Train Loss: 0.3621..  Val Loss: 0.3376..  Train Acc: 0.8405..  Val Acc: 0.8510..  Time: 219.75s\n",
            "Epoch: 4/15..  Train Loss: 0.3148..  Val Loss: 0.3067..  Train Acc: 0.8672..  Val Acc: 0.8777..  Time: 219.67s\n",
            "Epoch: 5/15..  Train Loss: 0.2733..  Val Loss: 0.2832..  Train Acc: 0.8876..  Val Acc: 0.8886..  Time: 221.32s\n",
            "Epoch: 6/15..  Train Loss: 0.2384..  Val Loss: 0.2842..  Train Acc: 0.9045..  Val Acc: 0.8942..  Time: 220.65s\n",
            "Epoch: 7/15..  Train Loss: 0.2135..  Val Loss: 0.2896..  Train Acc: 0.9153..  Val Acc: 0.8894..  Time: 221.90s\n",
            "Epoch: 8/15..  Train Loss: 0.1752..  Val Loss: 0.2781..  Train Acc: 0.9308..  Val Acc: 0.8949..  Time: 219.82s\n",
            "Epoch: 9/15..  Train Loss: 0.1675..  Val Loss: 0.2835..  Train Acc: 0.9366..  Val Acc: 0.8966..  Time: 221.95s\n",
            "Epoch: 10/15..  Train Loss: 0.1606..  Val Loss: 0.2935..  Train Acc: 0.9393..  Val Acc: 0.9012..  Time: 219.57s\n",
            "Epoch: 11/15..  Train Loss: 0.1602..  Val Loss: 0.2798..  Train Acc: 0.9398..  Val Acc: 0.8972..  Time: 221.76s\n",
            "Epoch: 12/15..  Train Loss: 0.1499..  Val Loss: 0.2781..  Train Acc: 0.9445..  Val Acc: 0.8965..  Time: 220.92s\n",
            "Epoch: 13/15..  Train Loss: 0.1496..  Val Loss: 0.2829..  Train Acc: 0.9429..  Val Acc: 0.8972..  Time: 221.48s\n",
            "Epoch: 14/15..  Train Loss: 0.1509..  Val Loss: 0.2798..  Train Acc: 0.9436..  Val Acc: 0.8978..  Time: 221.47s\n",
            "Epoch: 15/15..  Train Loss: 0.1499..  Val Loss: 0.2817..  Train Acc: 0.9430..  Val Acc: 0.8965..  Time: 221.10s\n"
          ],
          "name": "stdout"
        },
        {
          "output_type": "display_data",
          "data": {
            "image/png": "[encoded data removed]",
            "text/plain": [
              "<Figure size 864x432 with 2 Axes>"
            ]
          },
          "metadata": {
            "tags": [],
            "needs_background": "light"
          }
        },
        {
          "output_type": "stream",
          "text": [
            "-----------------------------------------------------------\n",
            "Test ACC: 0.8755.. \n"
          ],
          "name": "stdout"
        }
      ]
    },
    {
      "cell_type": "code",
      "metadata": {
        "colab": {
          "base_uri": "https://localhost:8080/",
          "height": 822
        },
        "id": "xVqHa0g3sqeY",
        "outputId": "8984d22f-0254-49e5-f9b2-5e3847b23548"
      },
      "source": [
        "params1['EPOCHS'] = 15\n",
        "params1['CRITERION'] = nn.BCELoss().to(device)\n",
        "params1['OPTIMIZER'] = 'ADAM'\n",
        "params1['N_LAYERS'] = 1\n",
        "params1['BIDIRECTIONAL'] = False\n",
        "\n",
        "INPUT_DIM = len(TEXT.vocab)\n",
        "model = RNN(\n",
        "      INPUT_DIM,\n",
        "      params1['EMBEDDING_DIM'],\n",
        "      params1['HIDDEN_DIM'],\n",
        "      params1['OUTPUT_DIM'],\n",
        "      params1['N_LAYERS'],\n",
        "      params1['BIDIRECTIONAL'],\n",
        "      params1['DROPOUT'],\n",
        "      TEXT.vocab.stoi[TEXT.pad_token],\n",
        "      TEXT.vocab.stoi[TEXT.unk_token],\n",
        "      'GRU'\n",
        ").to(device)\n",
        "\n",
        "model, params1 = execute_model(model, params1, dataiter_train, dataiter_val, dataiter_test)"
      ],
      "id": "xVqHa0g3sqeY",
      "execution_count": null,
      "outputs": [
        {
          "output_type": "stream",
          "text": [
            "/usr/local/lib/python3.7/dist-packages/torch/nn/modules/rnn.py:65: UserWarning: dropout option adds dropout after all but last recurrent layer, so non-zero dropout expects num_layers greater than 1, but got dropout=0.3 and num_layers=1\n",
            "  \"num_layers={}\".format(dropout, num_layers))\n"
          ],
          "name": "stderr"
        },
        {
          "output_type": "stream",
          "text": [
            "RNN(\n",
            "  (embedding): Embedding(15245, 100, padding_idx=1)\n",
            "  (rnn): GRU(100, 256, dropout=0.3)\n",
            "  (fc): Linear(in_features=512, out_features=1, bias=True)\n",
            "  (dropout): Dropout(p=0.3, inplace=False)\n",
            ")\n",
            "Epoch: 1/15..  Train Loss: 0.5790..  Val Loss: 0.5029..  Train Acc: 0.6902..  Val Acc: 0.7723..  Time: 41.26s\n",
            "Epoch: 2/15..  Train Loss: 0.4033..  Val Loss: 0.3638..  Train Acc: 0.8227..  Val Acc: 0.8509..  Time: 41.46s\n",
            "Epoch: 3/15..  Train Loss: 0.3139..  Val Loss: 0.3011..  Train Acc: 0.8670..  Val Acc: 0.8751..  Time: 41.44s\n",
            "Epoch: 4/15..  Train Loss: 0.2627..  Val Loss: 0.2913..  Train Acc: 0.8924..  Val Acc: 0.8846..  Time: 41.18s\n",
            "Epoch: 5/15..  Train Loss: 0.2251..  Val Loss: 0.3047..  Train Acc: 0.9101..  Val Acc: 0.8966..  Time: 41.40s\n",
            "Epoch: 6/15..  Train Loss: 0.1899..  Val Loss: 0.3218..  Train Acc: 0.9262..  Val Acc: 0.8748..  Time: 41.32s\n",
            "Epoch: 7/15..  Train Loss: 0.1429..  Val Loss: 0.3154..  Train Acc: 0.9439..  Val Acc: 0.9003..  Time: 41.59s\n",
            "Epoch: 8/15..  Train Loss: 0.1361..  Val Loss: 0.3200..  Train Acc: 0.9465..  Val Acc: 0.9011..  Time: 41.46s\n",
            "Epoch: 9/15..  Train Loss: 0.1336..  Val Loss: 0.3386..  Train Acc: 0.9491..  Val Acc: 0.8944..  Time: 41.63s\n",
            "Epoch: 10/15..  Train Loss: 0.1243..  Val Loss: 0.3352..  Train Acc: 0.9531..  Val Acc: 0.8995..  Time: 42.41s\n",
            "Epoch: 11/15..  Train Loss: 0.1223..  Val Loss: 0.3370..  Train Acc: 0.9527..  Val Acc: 0.8981..  Time: 43.57s\n",
            "Epoch: 12/15..  Train Loss: 0.1234..  Val Loss: 0.3345..  Train Acc: 0.9529..  Val Acc: 0.9002..  Time: 42.28s\n",
            "Epoch: 13/15..  Train Loss: 0.1231..  Val Loss: 0.3287..  Train Acc: 0.9537..  Val Acc: 0.9016..  Time: 40.94s\n",
            "Epoch: 14/15..  Train Loss: 0.1230..  Val Loss: 0.3337..  Train Acc: 0.9521..  Val Acc: 0.9009..  Time: 41.75s\n",
            "Epoch: 15/15..  Train Loss: 0.1232..  Val Loss: 0.3388..  Train Acc: 0.9534..  Val Acc: 0.8981..  Time: 41.53s\n"
          ],
          "name": "stdout"
        },
        {
          "output_type": "display_data",
          "data": {
            "image/png": "[encoded data removed]",
            "text/plain": [
              "<Figure size 864x432 with 2 Axes>"
            ]
          },
          "metadata": {
            "tags": [],
            "needs_background": "light"
          }
        },
        {
          "output_type": "stream",
          "text": [
            "-----------------------------------------------------------\n",
            "Test ACC: 0.8745.. \n"
          ],
          "name": "stdout"
        }
      ]
    },
    {
      "cell_type": "markdown",
      "metadata": {
        "id": "6U7KtnD1aEyc"
      },
      "source": [
        "Avaliando os experimentos, o modelo mais simples, RNN, apresentou os resultados mais fracos. Os modelos LSTM e GRU ficaram parecidos. Utilizando mais camadas e com bidirecional True na LSTM, o tempo de treinamento aumentou  muito, mas não apresentou resultados significativamente melhores que o GRU. Será exportado o modelo GRU. É necessário exportar também os vocab que representam o texto e label para ser utilizado pelo modelo."
      ],
      "id": "6U7KtnD1aEyc"
    },
    {
      "cell_type": "code",
      "metadata": {
        "id": "ZzfP3XoTzqtE"
      },
      "source": [
        "#Salva modelo\n",
        "\n",
        "torch.save(model, 'model_obj.pth')\n",
        "torch.save(TEXT.vocab, 'text_vocab_obj.pth')\n",
        "torch.save(LABEL.vocab, 'label_vocab_obj.pth')\n",
        "torch.save(model.state_dict(), 'pesos_obj.pth')\n"
      ],
      "id": "ZzfP3XoTzqtE",
      "execution_count": null,
      "outputs": []
    },
    {
      "cell_type": "markdown",
      "metadata": {
        "id": "PV_Nq4gwTaFr"
      },
      "source": [
        "# **Carregamento do modelo e predição**"
      ],
      "id": "PV_Nq4gwTaFr"
    },
    {
      "cell_type": "markdown",
      "metadata": {
        "id": "NZgjawzxax5u"
      },
      "source": [
        "\n",
        "\n",
        "\n",
        "\n",
        "\n",
        "\n",
        "A primeira célula abaixo somente é necessário executar se as demais células acima não foram executas. Ela fará os imports necessários e irá criar a classe do modelo RNN. O modelo exportado é pesado, por isto, exportei somente os seus pesos. Com isto, crio a estrutura do modelo e carrego os pesos (leve).\n",
        "\n",
        "Necessário os arquivos **text_vocab_obj** e **label_vocab_obj**, pois, a classe RNN carrega eles para realizar o predict de um texto."
      ],
      "id": "NZgjawzxax5u"
    },
    {
      "cell_type": "code",
      "metadata": {
        "id": "uXaNG4bPexsr"
      },
      "source": [
        "# Se executou as demais céculas, não precisa executar isto\n",
        "import torch.nn as nn\n",
        "import spacy\n",
        "import numpy as np\n",
        "import torch\n",
        "import re\n",
        "\n",
        "from bs4 import BeautifulSoup\n",
        "\n",
        "class RNN(nn.Module):\n",
        "    def __init__( self, vocab_size, embedding_dim, hidden_dim, output_dim, n_layers, bidirectional, dropout, pad_idx, unk_idx, tp='RNN'):\n",
        "        super().__init__()\n",
        "\n",
        "        self.embedding = nn.Embedding(vocab_size, embedding_dim, padding_idx=pad_idx)\n",
        "        self.nlp = spacy.load(\"en\")\n",
        "        if tp == 'RNN':\n",
        "          self.rnn = nn.RNN(\n",
        "            embedding_dim,\n",
        "            hidden_dim,\n",
        "            num_layers=n_layers,\n",
        "            bidirectional=bidirectional,\n",
        "            dropout=dropout\n",
        "        )\n",
        "        elif tp == 'LSTM':\n",
        "          self.rnn = nn.LSTM(\n",
        "              embedding_dim,\n",
        "              hidden_dim,\n",
        "              num_layers=n_layers,\n",
        "              bidirectional=bidirectional,\n",
        "              dropout=dropout\n",
        "          )\n",
        "        elif tp == 'GRU':\n",
        "          self.rnn = nn.GRU(\n",
        "              embedding_dim,\n",
        "              hidden_dim,\n",
        "              num_layers=n_layers,\n",
        "              bidirectional=bidirectional,\n",
        "              dropout=dropout\n",
        "          )\n",
        "        \n",
        "        self.fc = nn.Linear(hidden_dim * 2, output_dim)\n",
        "        self.dropout = nn.Dropout(dropout)\n",
        "        self.text_vocab = None\n",
        "        self.label_vocab = None\n",
        "        self.tp = tp\n",
        "        \n",
        "        self.embedding.weight.data[unk_idx] = torch.zeros(embedding_dim)\n",
        "        self.embedding.weight.data[pad_idx] = torch.zeros(embedding_dim)\n",
        "        \n",
        "\n",
        "    def clean_review_spacy_token(self, review):\n",
        "        review = BeautifulSoup(review, \"html.parser\").get_text()\n",
        "        review = review.lower()\n",
        "        review = re.sub('[^a-z0-9]', ' ', review)\n",
        "        review = [tok.text for tok in self.nlp.tokenizer(review)]\n",
        "        review = [word for word in review if self.nlp.vocab[word].is_stop == False]\n",
        "        review = [word.lemma_ for word in spacy.tokens.Doc(self.nlp.vocab, words=review)]\n",
        "        while ' ' in review: review.remove(' ') #bug spacy\n",
        "        return review\n",
        "\n",
        "    def predict(self, review):\n",
        "        if self.text_vocab is None:\n",
        "          self.text_vocab = torch.load('text_vocab_obj.pth')\n",
        "        if self.label_vocab is None:\n",
        "          self.label_vocab = torch.load('label_vocab_obj.pth')\n",
        "\n",
        "        self.eval()\n",
        "        with torch.no_grad():\n",
        "          tokenized = self.clean_review_spacy_token(review)\n",
        "          indexed = [self.text_vocab.stoi[t] for t in tokenized]\n",
        "          length = [len(indexed)]\n",
        "          tensor = torch.LongTensor(indexed).to(device)\n",
        "          tensor = tensor.unsqueeze(1)\n",
        "\n",
        "          length_tensor = torch.LongTensor(length)\n",
        "          prediction = self(tensor, length_tensor)\n",
        "          prediction = int(torch.round(prediction.squeeze()))\n",
        "          if self.label_vocab.stoi['neg'] == 1: # PARA GARANTIR QUE O RETORNO FIQUE DE ACORDO COM O ENUNCIADO (1 POSITIVO 0 NEGATIVO)\n",
        "            prediction = 1 if prediction == 0 else 0\n",
        "          return prediction\n",
        "\n",
        "    def forward(self, text, text_lengths):\n",
        "        embedded = self.dropout(self.embedding(text))\n",
        "\n",
        "        # pack sequence\n",
        "        packed_embedded = nn.utils.rnn.pack_padded_sequence(embedded, text_lengths.cpu(), enforce_sorted=False) # devido a um bug, tem que colocar como cpu\n",
        "        \n",
        "        if self.tp == 'LSTM':\n",
        "          packed_output, (hidden, cell) = self.rnn(packed_embedded)\n",
        "        else:\n",
        "          packed_output, hidden = self.rnn(packed_embedded)\n",
        "        \n",
        "        # unpack sequence\n",
        "        #output, output_lengths = nn.utils.rnn.pad_packed_sequence(packed_output)\n",
        "\n",
        "        if self.rnn.num_layers == 2:\n",
        "          hidden = self.dropout(torch.cat((hidden[-2, :, :], hidden[-1, :, :]), dim=1))\n",
        "        else:\n",
        "          hidden = self.dropout(torch.cat((hidden[-1, :, :], hidden[0, :, :]), dim=1))\n",
        "        return torch.sigmoid(self.fc(hidden))"
      ],
      "id": "uXaNG4bPexsr",
      "execution_count": 3,
      "outputs": []
    },
    {
      "cell_type": "code",
      "metadata": {
        "id": "gFbmGn2W9qZv",
        "colab": {
          "base_uri": "https://localhost:8080/"
        },
        "outputId": "89f1f099-c8a9-49ab-c1ca-1e771ebc1b6c"
      },
      "source": [
        "# Para carregar o modelo, sem precisar da estrutura (porém, arquivo do modelo é pesado)\n",
        "#model_load = torch.load('model_obj.pth')\n",
        "\n",
        "# Crio o modelo (treinado e exportado) e carrego seus pesos. Necessário executar a célula contendo a classe RNN\n",
        "model_load = RNN(\n",
        "                  15245,\n",
        "                  100,\n",
        "                  256,\n",
        "                  1,\n",
        "                  1,\n",
        "                  False,\n",
        "                  0.3,\n",
        "                  1,\n",
        "                  0,\n",
        "                  'GRU'\n",
        "                  )\n",
        "\n",
        "device = torch.device(\"cuda:0\" if torch.cuda.is_available() else \"cpu\")\n",
        "if device == 'cpu':\n",
        "  model_load.load_state_dict(torch.load('pesos_obj.pth', map_location=torch.device('cpu')))\n",
        "else:\n",
        "  model_load.load_state_dict(torch.load('pesos_obj.pth'))\n",
        "\n",
        "model_load = model_load.to(device)\n",
        "model_load"
      ],
      "id": "gFbmGn2W9qZv",
      "execution_count": 4,
      "outputs": [
        {
          "output_type": "stream",
          "text": [
            "/usr/local/lib/python3.7/dist-packages/torch/nn/modules/rnn.py:65: UserWarning: dropout option adds dropout after all but last recurrent layer, so non-zero dropout expects num_layers greater than 1, but got dropout=0.3 and num_layers=1\n",
            "  \"num_layers={}\".format(dropout, num_layers))\n"
          ],
          "name": "stderr"
        },
        {
          "output_type": "execute_result",
          "data": {
            "text/plain": [
              "RNN(\n",
              "  (embedding): Embedding(15245, 100, padding_idx=1)\n",
              "  (rnn): GRU(100, 256, dropout=0.3)\n",
              "  (fc): Linear(in_features=512, out_features=1, bias=True)\n",
              "  (dropout): Dropout(p=0.3, inplace=False)\n",
              ")"
            ]
          },
          "metadata": {
            "tags": []
          },
          "execution_count": 4
        }
      ]
    },
    {
      "cell_type": "markdown",
      "metadata": {
        "id": "u3RCoYupknmB"
      },
      "source": [
        "Testo o modelo carregado com um texto"
      ],
      "id": "u3RCoYupknmB"
    },
    {
      "cell_type": "code",
      "metadata": {
        "colab": {
          "base_uri": "https://localhost:8080/"
        },
        "id": "VS6wPBDsFdfC",
        "outputId": "45d2c7b7-2b65-4bf6-8e2b-33b47bb3d136"
      },
      "source": [
        "text = \"Worth the entertainment value of a rental, especially if you like action movies. This one features the usual car chases, fights with the great Van Damme kick style, shooting battles with the 40 shell load shotgun, and even terrorist style bombs. All of this is entertaining and competently handled but there is nothing that really blows you away if you've seen your share before.<br /><br />The plot is made interesting by the inclusion of a rabbit, which is clever but hardly profound. Many of the characters are heavily stereotyped -- the angry veterans, the terrified illegal aliens, the crooked cops, the indifferent feds, the bitchy tough lady station head, the crooked politician, the fat federale who looks like he was typecast as the Mexican in a Hollywood movie from the 1940s. All passably acted but again nothing special.<br /><br />I thought the main villains were pretty well done and fairly well acted. By the end of the movie you certainly knew who the good guys were and weren't. There was an emotional lift as the really bad ones got their just deserts. Very simplistic, but then you weren't expecting Hamlet, right? The only thing I found really annoying was the constant cuts to VDs daughter during the last fight scene.<br /><br />Not bad. Not good. Passable 4\"\n",
        "p = model_load.predict(text)\n",
        "p"
      ],
      "id": "VS6wPBDsFdfC",
      "execution_count": 5,
      "outputs": [
        {
          "output_type": "execute_result",
          "data": {
            "text/plain": [
              "0"
            ]
          },
          "metadata": {
            "tags": []
          },
          "execution_count": 5
        }
      ]
    },
    {
      "cell_type": "markdown",
      "metadata": {
        "id": "La5Eur8Pamf1"
      },
      "source": [
        "Testo o modelo carregado com o dataset de testes para ver o resultado."
      ],
      "id": "La5Eur8Pamf1"
    },
    {
      "cell_type": "code",
      "metadata": {
        "id": "HmW3p0V6aXDo",
        "colab": {
          "base_uri": "https://localhost:8080/"
        },
        "outputId": "f04376a3-c96d-42a3-d46b-470835a200b6"
      },
      "source": [
        "import pandas as pd\n",
        "from torchtext import datasets\n",
        "\n",
        "acc = 0\n",
        "\n",
        "test_iter = datasets.IMDB(split='test')\n",
        "df_test = pd.DataFrame(test_iter, columns=[\"sentiment\", \"review\"])\n",
        "\n",
        "for index, row in df_test.iterrows():\n",
        "  p = model_load.predict(row.review)\n",
        "  if p == (0 if row.sentiment == 'neg' else 1):\n",
        "    acc += 1\n",
        "print(\"Acurácia data frame teste:\", acc/len(df_test))  "
      ],
      "id": "HmW3p0V6aXDo",
      "execution_count": null,
      "outputs": [
        {
          "output_type": "stream",
          "text": [
            "Acurácia data frame teste: 0.87504\n"
          ],
          "name": "stdout"
        }
      ]
    }
  ]
}